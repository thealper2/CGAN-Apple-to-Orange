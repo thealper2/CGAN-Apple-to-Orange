{
 "cells": [
  {
   "cell_type": "code",
   "execution_count": null,
   "metadata": {
    "_cell_guid": "b1076dfc-b9ad-4769-8c92-a6c4dae69d19",
    "_kg_hide-output": true,
    "_uuid": "8f2839f25d086af736a60e9eeb907d3b93b6e0e5"
   },
   "outputs": [],
   "source": [
    "# This Python 3 environment comes with many helpful analytics libraries installed\n",
    "# It is defined by the kaggle/python Docker image: https://github.com/kaggle/docker-python\n",
    "# For example, here's several helpful packages to load\n",
    "\n",
    "import numpy as np # linear algebra\n",
    "import pandas as pd # data processing, CSV file I/O (e.g. pd.read_csv)\n",
    "\n",
    "# Input data files are available in the read-only \"../input/\" directory\n",
    "# For example, running this (by clicking run or pressing Shift+Enter) will list all files under the input directory\n",
    "\n",
    "import os\n",
    "for dirname, _, filenames in os.walk('/kaggle/input'):\n",
    "    for filename in filenames:\n",
    "        print(os.path.join(dirname, filename))\n",
    "\n",
    "# You can write up to 20GB to the current directory (/kaggle/working/) that gets preserved as output when you create a version using \"Save & Run All\" \n",
    "# You can also write temporary files to /kaggle/temp/, but they won't be saved outside of the current session"
   ]
  },
  {
   "cell_type": "markdown",
   "metadata": {},
   "source": [
    "# Import Libraries"
   ]
  },
  {
   "cell_type": "code",
   "execution_count": null,
   "metadata": {},
   "outputs": [],
   "source": [
    "import random\n",
    "import numpy as np\n",
    "import glob\n",
    "import os\n",
    "import itertools\n",
    "\n",
    "from PIL import Image\n",
    "import matplotlib.pyplot as plt\n",
    "\n",
    "import torch\n",
    "import torch.nn as nn\n",
    "import torch.optim as optim\n",
    "import torchvision.transforms as transforms\n",
    "from torchvision.utils import make_grid, save_image\n",
    "from torch.utils.data import Dataset, DataLoader"
   ]
  },
  {
   "cell_type": "code",
   "execution_count": null,
   "metadata": {},
   "outputs": [],
   "source": [
    "device = torch.device('cuda' if torch.cuda.is_available() else 'cpu')\n",
    "device"
   ]
  },
  {
   "cell_type": "markdown",
   "metadata": {},
   "source": [
    "# Load Data"
   ]
  },
  {
   "cell_type": "code",
   "execution_count": null,
   "metadata": {},
   "outputs": [],
   "source": [
    "transform = transforms.Compose([\n",
    "    transforms.Resize((256, 256)),\n",
    "    transforms.ToTensor(),\n",
    "    transforms.Normalize(\n",
    "        mean=(0.5, 0.5, 0.5),\n",
    "        std=(0.5, 0.5, 0.5)\n",
    "    )\n",
    "])"
   ]
  },
  {
   "cell_type": "code",
   "execution_count": null,
   "metadata": {},
   "outputs": [],
   "source": [
    "class CycleGANDataset(Dataset):\n",
    "    def __init__(self, files_A, files_B, transform=None):\n",
    "        self.files_A = glob.glob(files_A)\n",
    "        self.files_B = glob.glob(files_B)\n",
    "        self.transform = transform if transform is not None else transforms.Compose([\n",
    "            transforms.Resize((256, 256)),\n",
    "            transforms.ToTensor(),\n",
    "            transforms.Normalize((0.5, 0.5, 0.5), (0.5, 0.5, 0.5))\n",
    "        ])\n",
    "        \n",
    "    def __getitem__(self, ix):\n",
    "        try:\n",
    "            fileA = Image.open(self.files_A[ix % len(self.files_A)]).convert('RGB')\n",
    "            fileB = Image.open(self.files_B[ix % len(self.files_B)]).convert('RGB')\n",
    "        except Exception as e:\n",
    "            print(f\"Error loading image: {e}\")\n",
    "            return None, None\n",
    "\n",
    "        if self.transform:\n",
    "            fileA = self.transform(fileA)\n",
    "            fileB = self.transform(fileB)\n",
    "        \n",
    "        return fileA, fileB\n",
    "    \n",
    "    def __len__(self):\n",
    "        return max(len(self.files_A), len(self.files_B))\n",
    "    \n",
    "    def collate_fn(self, batch):\n",
    "        filesA, filesB = zip(*batch)\n",
    "        filesA = torch.stack([img for img in filesA if img is not None]).to(device).float()\n",
    "        filesB = torch.stack([img for img in filesB if img is not None]).to(device).float()\n",
    "        return filesA, filesB"
   ]
  },
  {
   "cell_type": "code",
   "execution_count": null,
   "metadata": {},
   "outputs": [],
   "source": [
    "train_dataset = CycleGANDataset('/kaggle/input/apple2orange-dataset/trainA/*', '/kaggle/input/apple2orange-dataset/trainB/*')\n",
    "test_dataset = CycleGANDataset('/kaggle/input/apple2orange-dataset/testA/*', '/kaggle/input/apple2orange-dataset/testB/*')"
   ]
  },
  {
   "cell_type": "code",
   "execution_count": null,
   "metadata": {},
   "outputs": [],
   "source": [
    "train_dataloader = DataLoader(train_dataset, batch_size=1, shuffle=True, collate_fn=train_dataset.collate_fn)\n",
    "test_dataloader = DataLoader(test_dataset, batch_size=1, shuffle=False, collate_fn=test_dataset.collate_fn)"
   ]
  },
  {
   "cell_type": "markdown",
   "metadata": {},
   "source": [
    "# Network Initialization"
   ]
  },
  {
   "cell_type": "code",
   "execution_count": null,
   "metadata": {},
   "outputs": [],
   "source": [
    "def weights_init_normal(m):\n",
    "    classname = m.__class__.__name__\n",
    "    if classname.find(\"Conv\") != -1:\n",
    "        torch.nn.init.normal_(m.weight.data, 0.0, 0.02)\n",
    "        if hasattr(m, \"bias\") and m.bias is not None:\n",
    "            torch.nn.init.constant_(m.bias.data, 0.0)\n",
    "    elif classname.find(\"BatchNorm2d\") != -1:\n",
    "        torch.nn.init.normal_(m.weight.data, 1.0, 0.02)\n",
    "        torch.nn.init.constant_(m.bias.data, 0.0)"
   ]
  },
  {
   "cell_type": "markdown",
   "metadata": {},
   "source": [
    "# Generator"
   ]
  },
  {
   "cell_type": "code",
   "execution_count": null,
   "metadata": {},
   "outputs": [],
   "source": [
    "class ResidualBlock(nn.Module):\n",
    "    def __init__(self, in_features):\n",
    "        super().__init__()\n",
    "\n",
    "        self.block = nn.Sequential(\n",
    "            nn.ReflectionPad2d(1),\n",
    "            nn.Conv2d(in_features, in_features, 3),\n",
    "            nn.InstanceNorm2d(in_features),\n",
    "            nn.ReLU(inplace=True),\n",
    "            nn.ReflectionPad2d(1),\n",
    "            nn.Conv2d(in_features, in_features, 3),\n",
    "            nn.InstanceNorm2d(in_features),\n",
    "        )\n",
    "\n",
    "    def forward(self, x):\n",
    "        return x + self.block(x)"
   ]
  },
  {
   "cell_type": "code",
   "execution_count": null,
   "metadata": {},
   "outputs": [],
   "source": [
    "class Generator(nn.Module):\n",
    "    def __init__(self, num_blocks=9):\n",
    "        super().__init__()\n",
    "        \n",
    "        self.pad1 = nn.ReflectionPad2d(3)\n",
    "        self.conv1 = nn.Conv2d(3, 64, 7)\n",
    "        self.norm1 = nn.InstanceNorm2d(64)\n",
    "        self.relu1 = nn.ReLU(inplace=True)\n",
    "        \n",
    "        self.conv2 = nn.Conv2d(64, 128, 3, stride=2, padding=1)\n",
    "        self.norm2 = nn.InstanceNorm2d(128)\n",
    "        self.relu2 = nn.ReLU(inplace=True)\n",
    "        \n",
    "        self.conv3 = nn.Conv2d(128, 256, 3, stride=2, padding=1)\n",
    "        self.norm3 = nn.InstanceNorm2d(256)\n",
    "        self.relu3 = nn.ReLU(inplace=True)\n",
    "        \n",
    "        self.residual_blocks = nn.Sequential(\n",
    "            *[ResidualBlock(256) for _ in range(num_blocks)]\n",
    "        )\n",
    "        \n",
    "        self.upsample1 = nn.Upsample(scale_factor=2)\n",
    "        self.conv4 = nn.Conv2d(256, 128, 3, stride=1, padding=1)\n",
    "        self.norm4 = nn.InstanceNorm2d(128)\n",
    "        self.relu4 = nn.ReLU(inplace=True)\n",
    "        \n",
    "        self.upsample2 = nn.Upsample(scale_factor=2)\n",
    "        self.conv5 = nn.Conv2d(128, 64, 3, stride=1, padding=1)\n",
    "        self.norm5 = nn.InstanceNorm2d(64)\n",
    "        self.relu5 = nn.ReLU(inplace=True)\n",
    "        \n",
    "        self.pad2 = nn.ReflectionPad2d(3)\n",
    "        self.conv6 = nn.Conv2d(64, 3, 7)\n",
    "        self.tanh = nn.Tanh()\n",
    "\n",
    "        self.apply(weights_init_normal)\n",
    "    \n",
    "    def forward(self, x):\n",
    "        x = self.pad1(x)\n",
    "        x = self.conv1(x)\n",
    "        x = self.norm1(x)\n",
    "        x = self.relu1(x)\n",
    "        \n",
    "        x = self.conv2(x)\n",
    "        x = self.norm2(x)\n",
    "        x = self.relu2(x)\n",
    "        \n",
    "        x = self.conv3(x)\n",
    "        x = self.norm3(x)\n",
    "        x = self.relu3(x)\n",
    "        \n",
    "        x = self.residual_blocks(x)\n",
    "        \n",
    "        x = self.upsample1(x)\n",
    "        x = self.conv4(x)\n",
    "        x = self.norm4(x)\n",
    "        x = self.relu4(x)\n",
    "        \n",
    "        x = self.upsample2(x)\n",
    "        x = self.conv5(x)\n",
    "        x = self.norm5(x)\n",
    "        x = self.relu5(x)\n",
    "        \n",
    "        x = self.pad2(x)\n",
    "        x = self.conv6(x)\n",
    "        x = self.tanh(x)\n",
    "        \n",
    "        return x"
   ]
  },
  {
   "cell_type": "code",
   "execution_count": null,
   "metadata": {},
   "outputs": [],
   "source": [
    "G_apple = Generator().to(device)\n",
    "G_orange = Generator().to(device)"
   ]
  },
  {
   "cell_type": "markdown",
   "metadata": {},
   "source": [
    "# Discriminator"
   ]
  },
  {
   "cell_type": "code",
   "execution_count": null,
   "metadata": {},
   "outputs": [],
   "source": [
    "class Discriminator(nn.Module):\n",
    "    def __init__(self):\n",
    "        super().__init__()\n",
    "\n",
    "        channels, height, width = 3, 256, 256\n",
    "\n",
    "        self.conv1 = nn.Conv2d(channels, 64, 4, stride=2, padding=1)\n",
    "        self.leaky_relu1 = nn.LeakyReLU(0.2, inplace=True)\n",
    "        \n",
    "        self.conv2 = nn.Conv2d(64, 128, 4, stride=2, padding=1)\n",
    "        self.norm2 = nn.InstanceNorm2d(128)\n",
    "        self.leaky_relu2 = nn.LeakyReLU(0.2, inplace=True)\n",
    "        \n",
    "        self.conv3 = nn.Conv2d(128, 256, 4, stride=2, padding=1)\n",
    "        self.norm3 = nn.InstanceNorm2d(256)\n",
    "        self.leaky_relu3 = nn.LeakyReLU(0.2, inplace=True)\n",
    "        \n",
    "        self.conv4 = nn.Conv2d(256, 512, 4, stride=2, padding=1)\n",
    "        self.norm4 = nn.InstanceNorm2d(512)\n",
    "        self.leaky_relu4 = nn.LeakyReLU(0.2, inplace=True)\n",
    "        \n",
    "        self.zero_pad = nn.ZeroPad2d((1, 0, 1, 0))\n",
    "        self.conv5 = nn.Conv2d(512, 1, 4, padding=1)\n",
    "        \n",
    "        self.apply(weights_init_normal)\n",
    "\n",
    "    def forward(self, img):\n",
    "        x = self.conv1(img)\n",
    "        x = self.leaky_relu1(x)\n",
    "        \n",
    "        x = self.conv2(x)\n",
    "        x = self.norm2(x)\n",
    "        x = self.leaky_relu2(x)\n",
    "        \n",
    "        x = self.conv3(x)\n",
    "        x = self.norm3(x)\n",
    "        x = self.leaky_relu3(x)\n",
    "        \n",
    "        x = self.conv4(x)\n",
    "        x = self.norm4(x)\n",
    "        x = self.leaky_relu4(x)\n",
    "        \n",
    "        x = self.zero_pad(x)\n",
    "        x = self.conv5(x)\n",
    "        \n",
    "        return x"
   ]
  },
  {
   "cell_type": "code",
   "execution_count": null,
   "metadata": {},
   "outputs": [],
   "source": [
    "D_apple = Discriminator().to(device)\n",
    "D_orange = Discriminator().to(device)"
   ]
  },
  {
   "cell_type": "markdown",
   "metadata": {},
   "source": [
    "# Train"
   ]
  },
  {
   "cell_type": "code",
   "execution_count": null,
   "metadata": {},
   "outputs": [],
   "source": [
    "criterion_GAN = torch.nn.MSELoss()\n",
    "criterion_cycle = torch.nn.L1Loss()\n",
    "criterion_identity = torch.nn.L1Loss()\n",
    "\n",
    "optimizer_G = torch.optim.Adam(\n",
    "    itertools.chain(G_apple.parameters(), G_orange.parameters()), lr=0.0002, betas=(0.5, 0.999)\n",
    ")\n",
    "optimizer_D_apple = torch.optim.Adam(D_apple.parameters(), lr=0.0002, betas=(0.5, 0.999))\n",
    "optimizer_D_orange = torch.optim.Adam(D_orange.parameters(), lr=0.0002, betas=(0.5, 0.999))\n",
    "\n",
    "lambda_cyc, lambda_id = 10.0, 5.0"
   ]
  },
  {
   "cell_type": "code",
   "execution_count": null,
   "metadata": {},
   "outputs": [],
   "source": [
    "g_loss_s = []\n",
    "d_loss_s = []"
   ]
  },
  {
   "cell_type": "code",
   "execution_count": null,
   "metadata": {},
   "outputs": [],
   "source": [
    "os.makedirs('./cyclegan')"
   ]
  },
  {
   "cell_type": "code",
   "execution_count": null,
   "metadata": {
    "_kg_hide-input": false,
    "_kg_hide-output": true
   },
   "outputs": [],
   "source": [
    "for epoch in range(3):\n",
    "    for i, batch in enumerate(train_dataloader):\n",
    "        real_apple, real_orange = batch\n",
    "        \n",
    "        G_apple.eval()\n",
    "        G_orange.eval()\n",
    "        optimizer_G.zero_grad()\n",
    "        \n",
    "        loss_id_apple = criterion_identity(G_orange(real_apple), real_apple)\n",
    "        loss_id_orange = criterion_identity(G_apple(real_orange), real_orange)\n",
    "        loss_identity = (loss_id_apple + loss_id_orange) / 2\n",
    "        \n",
    "        fake_orange = G_apple(real_apple)\n",
    "        loss_g_apple = criterion_GAN(D_orange(fake_orange), torch.Tensor(np.ones((len(real_apple), 1, 16, 16))).to(device))\n",
    "        fake_apple = G_orange(real_orange)\n",
    "        loss_g_orange = criterion_GAN(D_apple(fake_apple), torch.Tensor(np.ones((len(real_apple), 1, 16, 16))).to(device))\n",
    "        loss_g = (loss_g_apple + loss_g_orange) / 2\n",
    "        \n",
    "        recov_apple = G_orange(fake_orange)\n",
    "        loss_cycle_apple = criterion_cycle(recov_apple, real_apple)\n",
    "        recov_orange = G_apple(fake_apple)\n",
    "        loss_cycle_orange = criterion_cycle(recov_orange, real_orange)\n",
    "        loss_cycle = (loss_cycle_apple + loss_cycle_orange) / 2\n",
    "        \n",
    "        loss_generator = loss_g + lambda_cyc * loss_cycle + lambda_id * loss_identity\n",
    "        g_loss_s.append(loss_generator)\n",
    "        loss_generator.backward()\n",
    "        optimizer_G.step()\n",
    "        \n",
    "        optimizer_D_apple.zero_grad()\n",
    "        loss_real_apple = criterion_GAN(D_apple(real_apple), torch.Tensor(np.ones((len(real_apple), 1, 16, 16))).to(device))\n",
    "        loss_fake_apple = criterion_GAN(D_apple(fake_apple.detach()), torch.Tensor(np.zeros((len(real_apple), 1, 16, 16))).to(device))\n",
    "        loss_D_apple = (loss_real_apple + loss_fake_apple) / 2\n",
    "        loss_D_apple.backward()\n",
    "        optimizer_D_apple.step()\n",
    "        \n",
    "        optimizer_D_orange.zero_grad()\n",
    "        loss_real_orange = criterion_GAN(D_orange(real_orange), torch.Tensor(np.ones((len(real_orange), 1, 16, 16))).to(device))\n",
    "        loss_fake_orange = criterion_GAN(D_orange(fake_orange.detach()), torch.Tensor(np.zeros((len(real_orange), 1, 16, 16))).to(device))\n",
    "        loss_D_orange = (loss_real_orange + loss_fake_orange) / 2\n",
    "        loss_D_orange.backward()\n",
    "        optimizer_D_orange.step()\n",
    "        \n",
    "        loss_discriminator = (loss_D_apple + loss_D_orange) / 2\n",
    "        d_loss_s.append(loss_discriminator)\n",
    "        \n",
    "        if i % 100 == 0:\n",
    "            print('[%d/%d][%d/%d] Loss_D: %.4f Loss_G: %.4f' % (epoch, 10, i, len(train_dataloader), loss_discriminator, loss_generator))\n",
    "\n",
    "            G_apple.eval()\n",
    "            G_orange.eval()\n",
    "            \n",
    "            data_apple = next(iter(train_dataloader))\n",
    "            data_orange = next(iter(test_dataloader))\n",
    "            \n",
    "            real_apple, _ = data_apple\n",
    "            real_orange, _ = data_orange\n",
    "            \n",
    "            fake_orange = G_apple(real_apple)\n",
    "            fake_apple = G_orange(real_orange)\n",
    "            \n",
    "            real_apple = make_grid(real_apple, nrow=1, normalize=True)\n",
    "            real_orange = make_grid(real_orange, nrow=1, normalize=True)\n",
    "            fake_apple = make_grid(fake_apple, nrow=1, normalize=True)\n",
    "            fake_orange = make_grid(fake_orange, nrow=1, normalize=True)\n",
    "            \n",
    "            image_grid = torch.cat((real_apple, fake_orange, real_orange, fake_apple), 2)\n",
    "            plt.figure()\n",
    "            plt.imshow(image_grid.detach().cpu().permute(1, 2, 0).numpy())\n",
    "            plt.show()\n",
    "            save_image(image_grid, f'cyclegan/epoch_{epoch:03d}.png', normalize=True)"
   ]
  },
  {
   "cell_type": "markdown",
   "metadata": {},
   "source": [
    "# Results"
   ]
  },
  {
   "cell_type": "code",
   "execution_count": null,
   "metadata": {},
   "outputs": [],
   "source": [
    "g_loss_s = [g_loss_.cpu().detach().item() for g_loss_ in g_loss_s]\n",
    "d_loss_s = [d_loss_.cpu().detach().item() for d_loss_ in d_loss_s]"
   ]
  },
  {
   "cell_type": "code",
   "execution_count": null,
   "metadata": {},
   "outputs": [],
   "source": [
    "plt.figure(figsize=(10, 8))\n",
    "plt.plot(g_loss_s)\n",
    "plt.plot(d_loss_s)\n",
    "plt.title(\"Loss Curve\")\n",
    "plt.legend([\"Generator Loss\", \"Discriminator Loss\"])\n",
    "plt.show()"
   ]
  },
  {
   "cell_type": "code",
   "execution_count": null,
   "metadata": {},
   "outputs": [],
   "source": [
    "from IPython import display\n",
    "display.Image('cyclegan/epoch_002.png')"
   ]
  },
  {
   "cell_type": "code",
   "execution_count": null,
   "metadata": {},
   "outputs": [],
   "source": []
  },
  {
   "cell_type": "code",
   "execution_count": null,
   "metadata": {},
   "outputs": [],
   "source": []
  }
 ],
 "metadata": {
  "kaggle": {
   "accelerator": "nvidiaTeslaT4",
   "dataSources": [
    {
     "datasetId": 926287,
     "sourceId": 1567537,
     "sourceType": "datasetVersion"
    }
   ],
   "dockerImageVersionId": 30733,
   "isGpuEnabled": true,
   "isInternetEnabled": true,
   "language": "python",
   "sourceType": "notebook"
  },
  "kernelspec": {
   "display_name": "Python 3 (ipykernel)",
   "language": "python",
   "name": "python3"
  },
  "language_info": {
   "codemirror_mode": {
    "name": "ipython",
    "version": 3
   },
   "file_extension": ".py",
   "mimetype": "text/x-python",
   "name": "python",
   "nbconvert_exporter": "python",
   "pygments_lexer": "ipython3",
   "version": "3.10.12"
  }
 },
 "nbformat": 4,
 "nbformat_minor": 4
}
